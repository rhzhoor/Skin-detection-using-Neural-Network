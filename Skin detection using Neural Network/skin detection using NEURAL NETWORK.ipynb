{
 "cells": [
  {
   "cell_type": "code",
   "execution_count": 221,
   "metadata": {},
   "outputs": [],
   "source": [
    "import matplotlib.pyplot as plt\n",
    "import cv2 as cv\n",
    "import numpy as np\n",
    "import pandas as pd\n",
    "\n",
    "from IPython import get_ipython\n",
    "get_ipython().run_line_magic('matplotlib', 'inline')"
   ]
  },
  {
   "cell_type": "code",
   "execution_count": 222,
   "metadata": {},
   "outputs": [],
   "source": [
    "def sigmoid (x):\n",
    "    return 1 / (1 + np.exp(-x)) # activation function\n",
    "def sigmoid_(x): return x * (1 - x) # derivative of sigmoid\n"
   ]
  },
  {
   "cell_type": "code",
   "execution_count": 229,
   "metadata": {},
   "outputs": [
    {
     "name": "stdout",
     "output_type": "stream",
     "text": [
      "accuracy  0.73935690127441\n"
     ]
    },
    {
     "data": {
      "text/plain": [
       "array([[ 6.62463596e-01],\n",
       "       [-1.21190176e-15],\n",
       "       [-5.99527935e-61],\n",
       "       [ 2.93456232e-55],\n",
       "       [-3.29999145e-01],\n",
       "       [ 3.33353742e-01],\n",
       "       [ 6.63352887e-01],\n",
       "       [-3.56562489e-79],\n",
       "       [-3.48282876e-33],\n",
       "       [ 6.63352887e-01],\n",
       "       [ 6.63352887e-01],\n",
       "       [ 3.35698515e-01],\n",
       "       [ 3.40187521e-01],\n",
       "       [ 3.39165711e-01]])"
      ]
     },
     "execution_count": 229,
     "metadata": {},
     "output_type": "execute_result"
    }
   ],
   "source": [
    "\n",
    "class RN:\n",
    "    \n",
    "    \n",
    "    def __init__(self):\n",
    "        self.epochs = 2000 # Number of iterations\n",
    "        inputLayerSize, hiddenLayerSize, outputLayerSize = 3, 2, 1\n",
    "        self.L = .1 # learning rate\n",
    "    \n",
    "        # weights on layer inputs  \n",
    "        self.Wh = np.random.normal(size=(inputLayerSize, hiddenLayerSize))\n",
    "        self.Wz = np.random.normal(size=(hiddenLayerSize,outputLayerSize))\n",
    "    \n",
    "        \n",
    "    def feedforward (self,X):\n",
    "            H = sigmoid(np.dot(X, self.Wh)) # hidden layer results\n",
    "            Z = np.dot(H, self.Wz)\n",
    "            return sigmoid(Z)\n",
    "    \n",
    "    def train (self, X ,Y):\n",
    "        for i in range(self.epochs):\n",
    "            H = sigmoid(np.dot(X, self.Wh)) # hidden layer results\n",
    "            Z = np.dot(H,self.Wz) # output layer, no activation\n",
    "            E = Y - Z # how much we missed (error)\n",
    "            dZ = E * self.L # delta Z\n",
    "            self.Wz += H.T.dot(dZ) # update output layer weights\n",
    "            dH = dZ.dot(self.Wz.T) * sigmoid_(H) # delta H\n",
    "            self.Wh += X.T.dot(dH) # update hidden layer weights\n",
    "            if i % 2000 == 0:\n",
    "                print(\"accuracy \" ,(1-E).mean())\n",
    "        return Z # what have we learnt?\n",
    "X = np.array([\n",
    "  [12, 34,10],  #Skin\n",
    "  [-25, -23, -1],   #no_Skin\n",
    "  [-95, -13, -23],   # no_Skin\n",
    "  [-95, 0, 30],   # no_Skin\n",
    "  [12, -13, -23],   # no_Skin\n",
    "  [95, 101,11], # Skin\n",
    "  [-24,13,77],\n",
    "  [-100,-32,12],\n",
    "  [-50,-33,-1],\n",
    "  [116,151,215],\n",
    "  [86,110,156],\n",
    "  [3,1,0],\n",
    "  [2,0,0],\n",
    "  [3,3,0],\n",
    "])\n",
    "Y = np.array([\n",
    "  [1], # Skin\n",
    "  [0], # no_Skin\n",
    "  [0], # no_Skin\n",
    "  [0],\n",
    "  [0],\n",
    "  [1], # Skin\n",
    "  [0],\n",
    "  [0],\n",
    "  [0],\n",
    "  [1],\n",
    "  [1],\n",
    "  [0],\n",
    "  [0],\n",
    "  [0],\n",
    "])\n",
    "\n",
    "image = RN()\n",
    "image.train( X , Y)"
   ]
  },
  {
   "cell_type": "code",
   "execution_count": 230,
   "metadata": {},
   "outputs": [],
   "source": [
    "def plot_confusion_matrix(y_true, y_pred, normalize=False, title=None, cmap=plt.cm.Blues):\n",
    "    \"\"\"\n",
    "    This function prints and plots the confusion matrix.\n",
    "    Normalization can be applied by setting normalize=True.\n",
    "    \"\"\"\n",
    "    if not title:\n",
    "        if normalize:\n",
    "            title = 'Normalized confusion matrix'\n",
    "        else:\n",
    "            title = 'Confusion matrix, without normalization'\n",
    "\n",
    "    # Compute confusion matrix\n",
    "    cm = confusion_matrix(y_true, y_pred)\n",
    "    # Only use the labels that appear in the data\n",
    "    if normalize:\n",
    "        cm = cm.astype('float') / cm.sum(axis=1)[:, np.newaxis]\n",
    "        print(\"Normalized confusion matrix\")\n",
    "    else:\n",
    "        print('Confusion matrix, without normalization')\n",
    "\n",
    "    print(cm)\n",
    "\n",
    "    fig, ax = plt.subplots()\n",
    "    im = ax.imshow(cm, interpolation='nearest', cmap=cmap)\n",
    "    ax.figure.colorbar(im, ax=ax)\n",
    "    # We want to show all ticks...\n",
    "    ax.set(xticks=np.arange(cm.shape[1]),\n",
    "           yticks=np.arange(cm.shape[0]),\n",
    "           # ... and label them with the respective list entries\n",
    "           title=title,\n",
    "           ylabel='True label',\n",
    "           xlabel='Predicted label')\n",
    "\n",
    "    # Rotate the tick labels and set their alignment.\n",
    "    plt.setp(ax.get_xticklabels(), rotation=45, ha=\"right\",\n",
    "             rotation_mode=\"anchor\")\n",
    "\n",
    "    # Loop over data dimensions and create text annotations.\n",
    "    fmt = '.2f' if normalize else 'd'\n",
    "    thresh = cm.max() / 2.\n",
    "    for i in range(cm.shape[0]):\n",
    "        for j in range(cm.shape[1]):\n",
    "            ax.text(j, i, format(cm[i, j], fmt),\n",
    "                    ha=\"center\", va=\"center\",\n",
    "                    color=\"white\" if cm[i, j] > thresh else \"black\")\n",
    "    fig.tight_layout()\n",
    "    return ax\n",
    "\n",
    "\n",
    "    np.set_printoptions(precision=2)\n",
    "    \n",
    "    # Plot non-normalized confusion matrix\n",
    "    plot_confusion_matrix(y_true, y_pred,\n",
    "                          title='Confusion matrix, without normalization')\n",
    "    \n",
    "    # Plot normalized confusion matrix\n",
    "    plot_confusion_matrix(y_true, y_pred, normalize=True,\n",
    "                          title='Normalized confusion matrix')\n",
    "\n",
    "    plt.show()\n"
   ]
  },
  {
   "cell_type": "code",
   "execution_count": 233,
   "metadata": {},
   "outputs": [
    {
     "name": "stdout",
     "output_type": "stream",
     "text": [
      "accuracy  0.9764944262311305\n",
      "accuracy  0.9764027590023445\n",
      "accuracy  0.9782129971780914\n",
      "accuracy  0.9797655942399601\n",
      "accuracy  0.9841960813147158\n",
      "accuracy  0.9762508928913948\n",
      "accuracy  0.9762721048234312\n",
      "accuracy  0.9763333269024441\n",
      "accuracy  0.9770357902137665\n",
      "accuracy  0.9821423678308027\n",
      "accuracy  0.8609455183702471\n",
      "accuracy  0.9762965497084272\n",
      "accuracy  0.9764722638919073\n",
      "accuracy  0.9780384805199508\n",
      "[[9 1]\n",
      " [2 2]]\n"
     ]
    }
   ],
   "source": [
    "from sklearn.metrics import confusion_matrix\n",
    "y_true, y_pred = [], []\n",
    "for i in range(14):\n",
    "    y_true.append(Y[i])\n",
    "    if image.train(X,Y)[i]> 0.5:\n",
    "        y_pred.append(1)\n",
    "    else:\n",
    "        y_pred.append(0)\n",
    "print(confusion_matrix(y_true, y_pred))"
   ]
  },
  {
   "cell_type": "code",
   "execution_count": 234,
   "metadata": {},
   "outputs": [
    {
     "name": "stdout",
     "output_type": "stream",
     "text": [
      "Confusion matrix, without normalization\n",
      "[[9 1]\n",
      " [2 2]]\n"
     ]
    },
    {
     "data": {
      "text/plain": [
       "<AxesSubplot:title={'center':'Confusion matrix, without normalization'}, xlabel='Predicted label', ylabel='True label'>"
      ]
     },
     "execution_count": 234,
     "metadata": {},
     "output_type": "execute_result"
    },
    {
     "data": {
      "image/png": "[encoded data removed]",
      "text/plain": [
       "<Figure size 432x288 with 1 Axes>"
      ]
     },
     "metadata": {
      "needs_background": "light"
     },
     "output_type": "display_data"
    },
    {
     "data": {
      "image/png": "[encoded data removed]",
      "text/plain": [
       "<Figure size 432x288 with 2 Axes>"
      ]
     },
     "metadata": {
      "needs_background": "light"
     },
     "output_type": "display_data"
    }
   ],
   "source": [
    "img = cv.imread('C:/Users/hp/Downloads/Rn/8.JPG')\n",
    "plt.imshow(image.feedforward(img)[:,:,0])\n",
    "\n",
    "plot_confusion_matrix(y_true, y_pred, normalize=False, title=None, cmap=plt.cm.Blues)"
   ]
  },
  {
   "cell_type": "code",
   "execution_count": null,
   "metadata": {},
   "outputs": [],
   "source": []
  },
  {
   "cell_type": "code",
   "execution_count": null,
   "metadata": {},
   "outputs": [],
   "source": []
  },
  {
   "cell_type": "code",
   "execution_count": null,
   "metadata": {},
   "outputs": [],
   "source": []
  },
  {
   "cell_type": "code",
   "execution_count": null,
   "metadata": {},
   "outputs": [],
   "source": []
  }
 ],
 "metadata": {
  "kernelspec": {
   "display_name": "Python 3",
   "language": "python",
   "name": "python3"
  },
  "language_info": {
   "codemirror_mode": {
    "name": "ipython",
    "version": 3
   },
   "file_extension": ".py",
   "mimetype": "text/x-python",
   "name": "python",
   "nbconvert_exporter": "python",
   "pygments_lexer": "ipython3",
   "version": "3.8.5"
  }
 },
 "nbformat": 4,
 "nbformat_minor": 4
}
